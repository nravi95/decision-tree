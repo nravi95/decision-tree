{
 "cells": [
  {
   "cell_type": "code",
   "execution_count": 1,
   "id": "1208a1db",
   "metadata": {},
   "outputs": [],
   "source": [
    "import pandas as pd\n",
    "import numpy as np\n",
    "import scipy.stats.stats\n",
    "import pandas as pd\n",
    "import matplotlib.pyplot as plt\n",
    "import numpy as np\n",
    "import os\n",
    "from sklearn.model_selection import train_test_split \n",
    "from sklearn.linear_model import LinearRegression\n",
    "from sklearn import metrics\n",
    "%matplotlib inline\n",
    "import seaborn as sns\n",
    "import itertools\n",
    "import sklearn\n",
    "from sklearn import preprocessing\n",
    "from sklearn.model_selection import train_test_split\n",
    "from sklearn.metrics import precision_score\n",
    "from sklearn.metrics import accuracy_score\n",
    "import matplotlib\n",
    "import matplotlib.pyplot as plt\n",
    "import time\n",
    "from sklearn.model_selection import RandomizedSearchCV\n",
    "from sklearn.metrics import confusion_matrix\n",
    "import seaborn as sns\n",
    "import statsmodels.api as sm"
   ]
  },
  {
   "cell_type": "code",
   "execution_count": 3,
   "id": "75a7bfc0",
   "metadata": {},
   "outputs": [],
   "source": [
    "data = pd.read_csv('C:/Users/ravit/Downloads/bodyfat(2).csv')"
   ]
  },
  {
   "cell_type": "code",
   "execution_count": 4,
   "id": "40fea79f",
   "metadata": {},
   "outputs": [
    {
     "data": {
      "text/html": [
       "<div>\n",
       "<style scoped>\n",
       "    .dataframe tbody tr th:only-of-type {\n",
       "        vertical-align: middle;\n",
       "    }\n",
       "\n",
       "    .dataframe tbody tr th {\n",
       "        vertical-align: top;\n",
       "    }\n",
       "\n",
       "    .dataframe thead th {\n",
       "        text-align: right;\n",
       "    }\n",
       "</style>\n",
       "<table border=\"1\" class=\"dataframe\">\n",
       "  <thead>\n",
       "    <tr style=\"text-align: right;\">\n",
       "      <th></th>\n",
       "      <th>Bodyfat</th>\n",
       "      <th>Tricep_skinfold</th>\n",
       "      <th>Thigh_Circum</th>\n",
       "      <th>Midarm_circum</th>\n",
       "    </tr>\n",
       "  </thead>\n",
       "  <tbody>\n",
       "    <tr>\n",
       "      <th>0</th>\n",
       "      <td>19.5</td>\n",
       "      <td>43.1</td>\n",
       "      <td>29.1</td>\n",
       "      <td>11.9</td>\n",
       "    </tr>\n",
       "    <tr>\n",
       "      <th>1</th>\n",
       "      <td>24.7</td>\n",
       "      <td>49.8</td>\n",
       "      <td>28.2</td>\n",
       "      <td>22.8</td>\n",
       "    </tr>\n",
       "    <tr>\n",
       "      <th>2</th>\n",
       "      <td>30.7</td>\n",
       "      <td>51.9</td>\n",
       "      <td>37.0</td>\n",
       "      <td>18.7</td>\n",
       "    </tr>\n",
       "    <tr>\n",
       "      <th>3</th>\n",
       "      <td>29.8</td>\n",
       "      <td>54.3</td>\n",
       "      <td>31.1</td>\n",
       "      <td>20.1</td>\n",
       "    </tr>\n",
       "    <tr>\n",
       "      <th>4</th>\n",
       "      <td>19.1</td>\n",
       "      <td>42.2</td>\n",
       "      <td>30.9</td>\n",
       "      <td>12.9</td>\n",
       "    </tr>\n",
       "  </tbody>\n",
       "</table>\n",
       "</div>"
      ],
      "text/plain": [
       "   Bodyfat  Tricep_skinfold  Thigh_Circum  Midarm_circum\n",
       "0     19.5             43.1          29.1           11.9\n",
       "1     24.7             49.8          28.2           22.8\n",
       "2     30.7             51.9          37.0           18.7\n",
       "3     29.8             54.3          31.1           20.1\n",
       "4     19.1             42.2          30.9           12.9"
      ]
     },
     "execution_count": 4,
     "metadata": {},
     "output_type": "execute_result"
    }
   ],
   "source": [
    "data.head()"
   ]
  },
  {
   "cell_type": "code",
   "execution_count": 5,
   "id": "0ab01ebb",
   "metadata": {},
   "outputs": [
    {
     "name": "stdout",
     "output_type": "stream",
     "text": [
      "<class 'pandas.core.frame.DataFrame'>\n",
      "RangeIndex: 20 entries, 0 to 19\n",
      "Data columns (total 4 columns):\n",
      " #   Column           Non-Null Count  Dtype  \n",
      "---  ------           --------------  -----  \n",
      " 0   Bodyfat          20 non-null     float64\n",
      " 1   Tricep_skinfold  20 non-null     float64\n",
      " 2   Thigh_Circum     20 non-null     float64\n",
      " 3   Midarm_circum    20 non-null     float64\n",
      "dtypes: float64(4)\n",
      "memory usage: 768.0 bytes\n"
     ]
    }
   ],
   "source": [
    "data.info()"
   ]
  },
  {
   "cell_type": "code",
   "execution_count": 8,
   "id": "65d68d2f",
   "metadata": {},
   "outputs": [
    {
     "name": "stdout",
     "output_type": "stream",
     "text": [
      "   Bodyfat  Tricep_skinfold  Thigh_Circum  Midarm_circum\n",
      "0     19.5             43.1          29.1           11.9\n",
      "1     24.7             49.8          28.2           22.8\n",
      "2     30.7             51.9          37.0           18.7\n",
      "3     29.8             54.3          31.1           20.1\n",
      "4     19.1             42.2          30.9           12.9\n",
      "X_train shape: (15, 3)\n",
      "y_train shape: (15,)\n",
      "X_test shape: (5, 3)\n",
      "y_test shape: (5,)\n"
     ]
    }
   ],
   "source": [
    "import pandas as pd\n",
    "from sklearn.model_selection import train_test_split\n",
    "\n",
    "# Assuming you have your data in a pandas DataFrame named 'df'\n",
    "\n",
    "# Print the first few rows of the DataFrame to see the structure of the data\n",
    "print(data.head())\n",
    "\n",
    "# Separate the target variable (the column you want to predict) from the features\n",
    "target_column = 'Bodyfat'  # Replace 'target_column_name' with the name of the target column\n",
    "X = data.drop(target_column, axis=1)\n",
    "y = data['Bodyfat']\n",
    "\n",
    "# Split the data into training (first 15 observations) and testing (rest 5 observations) sets\n",
    "X_train, X_test, y_train, y_test = train_test_split(X, y, test_size=5, random_state=42)\n",
    "\n",
    "# Print the shapes of the training and testing sets\n",
    "print(\"X_train shape:\", X_train.shape)\n",
    "print(\"y_train shape:\", y_train.shape)\n",
    "print(\"X_test shape:\", X_test.shape)\n",
    "print(\"y_test shape:\", y_test.shape)\n"
   ]
  },
  {
   "cell_type": "code",
   "execution_count": 11,
   "id": "e6d869e5",
   "metadata": {},
   "outputs": [
    {
     "name": "stdout",
     "output_type": "stream",
     "text": [
      "Residuals: 0     0.360874\n",
      "1     0.163600\n",
      "2    -0.088888\n",
      "3     0.066562\n",
      "4    -0.258999\n",
      "5     0.035239\n",
      "6    -0.182814\n",
      "7     0.121407\n",
      "8     0.139923\n",
      "9    -0.244642\n",
      "10   -0.112828\n",
      "11   -0.052803\n",
      "12   -0.069693\n",
      "13   -0.249114\n",
      "14   -0.142377\n",
      "15    0.107014\n",
      "16   -0.102771\n",
      "17    0.150765\n",
      "18    0.283924\n",
      "19    0.075620\n",
      "dtype: float64\n"
     ]
    },
    {
     "data": {
      "image/png": "[encoded data removed]",
      "text/plain": [
       "<Figure size 640x480 with 1 Axes>"
      ]
     },
     "metadata": {},
     "output_type": "display_data"
    },
    {
     "name": "stdout",
     "output_type": "stream",
     "text": [
      "                            OLS Regression Results                            \n",
      "==============================================================================\n",
      "Dep. Variable:                Bodyfat   R-squared:                       0.999\n",
      "Model:                            OLS   Adj. R-squared:                  0.999\n",
      "Method:                 Least Squares   F-statistic:                     4263.\n",
      "Date:                Tue, 01 Aug 2023   Prob (F-statistic):           1.98e-23\n",
      "Time:                        15:34:42   Log-Likelihood:                 6.7032\n",
      "No. Observations:                  20   AIC:                            -5.406\n",
      "Df Residuals:                      16   BIC:                            -1.423\n",
      "Df Model:                           3                                         \n",
      "Covariance Type:            nonrobust                                         \n",
      "===================================================================================\n",
      "                      coef    std err          t      P>|t|      [0.025      0.975]\n",
      "-----------------------------------------------------------------------------------\n",
      "const             -32.3272      0.713    -45.348      0.000     -33.838     -30.816\n",
      "Tricep_skinfold     0.8330      0.018     46.833      0.000       0.795       0.871\n",
      "Thigh_Circum        0.5240      0.012     42.459      0.000       0.498       0.550\n",
      "Midarm_circum       0.0264      0.018      1.437      0.170      -0.013       0.065\n",
      "==============================================================================\n",
      "Omnibus:                        0.726   Durbin-Watson:                   1.509\n",
      "Prob(Omnibus):                  0.695   Jarque-Bera (JB):                0.725\n",
      "Skew:                           0.232   Prob(JB):                        0.696\n",
      "Kurtosis:                       2.191   Cond. No.                     1.02e+03\n",
      "==============================================================================\n",
      "\n",
      "Notes:\n",
      "[1] Standard Errors assume that the covariance matrix of the errors is correctly specified.\n",
      "[2] The condition number is large, 1.02e+03. This might indicate that there are\n",
      "strong multicollinearity or other numerical problems.\n"
     ]
    }
   ],
   "source": [
    "import pandas as pd\n",
    "import numpy as np\n",
    "import statsmodels.api as sm\n",
    "import matplotlib.pyplot as plt\n",
    "\n",
    "# Assuming you have a CSV file named 'data.csv' containing your dataset\n",
    "# Adjust the file path accordingly based on your file location\n",
    "data = pd.read_csv('C:/Users/ravit/Downloads/bodyfat.csv')\n",
    "\n",
    "# Extract the features (X) and target variable (y) from the data\n",
    "X = data[['Tricep_skinfold',\n",
    "'Thigh_Circum','Midarm_circum']]  # Replace 'Feature1', 'Feature2', etc. with actual column names\n",
    "y = data['Bodyfat']  # Replace 'Target' with the actual target column name\n",
    "\n",
    "# Add a constant term to the features (required for statsmodels)\n",
    "X = sm.add_constant(X)\n",
    "\n",
    "# Step 1: Create a linear regression model\n",
    "regression_model = sm.OLS(y, X)\n",
    "\n",
    "# Step 2: Fit the model to the data\n",
    "results = regression_model.fit()\n",
    "\n",
    "# Step 3: Get the predictions and residuals\n",
    "predictions = results.predict(X)\n",
    "residuals = y - predictions\n",
    "\n",
    "# Step 4: Print or visualize the residuals (optional)\n",
    "print(\"Residuals:\", residuals)\n",
    "\n",
    "# Plot the residuals against the predicted values\n",
    "plt.scatter(predictions, residuals)\n",
    "plt.axhline(y=0, color='r', linestyle='--')\n",
    "plt.xlabel('Predicted Values')\n",
    "plt.ylabel('Residuals')\n",
    "plt.title('Residual Plot')\n",
    "plt.show()\n",
    "\n",
    "# Optionally, you can print the summary of the regression model\n",
    "print(results.summary())\n"
   ]
  },
  {
   "cell_type": "code",
   "execution_count": 13,
   "id": "09af3528",
   "metadata": {},
   "outputs": [
    {
     "data": {
      "text/html": [
       "<style>#sk-container-id-1 {color: black;background-color: white;}#sk-container-id-1 pre{padding: 0;}#sk-container-id-1 div.sk-toggleable {background-color: white;}#sk-container-id-1 label.sk-toggleable__label {cursor: pointer;display: block;width: 100%;margin-bottom: 0;padding: 0.3em;box-sizing: border-box;text-align: center;}#sk-container-id-1 label.sk-toggleable__label-arrow:before {content: \"▸\";float: left;margin-right: 0.25em;color: #696969;}#sk-container-id-1 label.sk-toggleable__label-arrow:hover:before {color: black;}#sk-container-id-1 div.sk-estimator:hover label.sk-toggleable__label-arrow:before {color: black;}#sk-container-id-1 div.sk-toggleable__content {max-height: 0;max-width: 0;overflow: hidden;text-align: left;background-color: #f0f8ff;}#sk-container-id-1 div.sk-toggleable__content pre {margin: 0.2em;color: black;border-radius: 0.25em;background-color: #f0f8ff;}#sk-container-id-1 input.sk-toggleable__control:checked~div.sk-toggleable__content {max-height: 200px;max-width: 100%;overflow: auto;}#sk-container-id-1 input.sk-toggleable__control:checked~label.sk-toggleable__label-arrow:before {content: \"▾\";}#sk-container-id-1 div.sk-estimator input.sk-toggleable__control:checked~label.sk-toggleable__label {background-color: #d4ebff;}#sk-container-id-1 div.sk-label input.sk-toggleable__control:checked~label.sk-toggleable__label {background-color: #d4ebff;}#sk-container-id-1 input.sk-hidden--visually {border: 0;clip: rect(1px 1px 1px 1px);clip: rect(1px, 1px, 1px, 1px);height: 1px;margin: -1px;overflow: hidden;padding: 0;position: absolute;width: 1px;}#sk-container-id-1 div.sk-estimator {font-family: monospace;background-color: #f0f8ff;border: 1px dotted black;border-radius: 0.25em;box-sizing: border-box;margin-bottom: 0.5em;}#sk-container-id-1 div.sk-estimator:hover {background-color: #d4ebff;}#sk-container-id-1 div.sk-parallel-item::after {content: \"\";width: 100%;border-bottom: 1px solid gray;flex-grow: 1;}#sk-container-id-1 div.sk-label:hover label.sk-toggleable__label {background-color: #d4ebff;}#sk-container-id-1 div.sk-serial::before {content: \"\";position: absolute;border-left: 1px solid gray;box-sizing: border-box;top: 0;bottom: 0;left: 50%;z-index: 0;}#sk-container-id-1 div.sk-serial {display: flex;flex-direction: column;align-items: center;background-color: white;padding-right: 0.2em;padding-left: 0.2em;position: relative;}#sk-container-id-1 div.sk-item {position: relative;z-index: 1;}#sk-container-id-1 div.sk-parallel {display: flex;align-items: stretch;justify-content: center;background-color: white;position: relative;}#sk-container-id-1 div.sk-item::before, #sk-container-id-1 div.sk-parallel-item::before {content: \"\";position: absolute;border-left: 1px solid gray;box-sizing: border-box;top: 0;bottom: 0;left: 50%;z-index: -1;}#sk-container-id-1 div.sk-parallel-item {display: flex;flex-direction: column;z-index: 1;position: relative;background-color: white;}#sk-container-id-1 div.sk-parallel-item:first-child::after {align-self: flex-end;width: 50%;}#sk-container-id-1 div.sk-parallel-item:last-child::after {align-self: flex-start;width: 50%;}#sk-container-id-1 div.sk-parallel-item:only-child::after {width: 0;}#sk-container-id-1 div.sk-dashed-wrapped {border: 1px dashed gray;margin: 0 0.4em 0.5em 0.4em;box-sizing: border-box;padding-bottom: 0.4em;background-color: white;}#sk-container-id-1 div.sk-label label {font-family: monospace;font-weight: bold;display: inline-block;line-height: 1.2em;}#sk-container-id-1 div.sk-label-container {text-align: center;}#sk-container-id-1 div.sk-container {/* jupyter's `normalize.less` sets `[hidden] { display: none; }` but bootstrap.min.css set `[hidden] { display: none !important; }` so we also need the `!important` here to be able to override the default hidden behavior on the sphinx rendered scikit-learn.org. See: https://github.com/scikit-learn/scikit-learn/issues/21755 */display: inline-block !important;position: relative;}#sk-container-id-1 div.sk-text-repr-fallback {display: none;}</style><div id=\"sk-container-id-1\" class=\"sk-top-container\"><div class=\"sk-text-repr-fallback\"><pre>LinearRegression()</pre><b>In a Jupyter environment, please rerun this cell to show the HTML representation or trust the notebook. <br />On GitHub, the HTML representation is unable to render, please try loading this page with nbviewer.org.</b></div><div class=\"sk-container\" hidden><div class=\"sk-item\"><div class=\"sk-estimator sk-toggleable\"><input class=\"sk-toggleable__control sk-hidden--visually\" id=\"sk-estimator-id-1\" type=\"checkbox\" checked><label for=\"sk-estimator-id-1\" class=\"sk-toggleable__label sk-toggleable__label-arrow\">LinearRegression</label><div class=\"sk-toggleable__content\"><pre>LinearRegression()</pre></div></div></div></div></div>"
      ],
      "text/plain": [
       "LinearRegression()"
      ]
     },
     "execution_count": 13,
     "metadata": {},
     "output_type": "execute_result"
    }
   ],
   "source": [
    "regressors = LinearRegression()  \n",
    "regressors.fit(X_train, y_train)"
   ]
  },
  {
   "cell_type": "code",
   "execution_count": 14,
   "id": "12cc397b",
   "metadata": {},
   "outputs": [
    {
     "name": "stderr",
     "output_type": "stream",
     "text": [
      "C:\\Users\\ravit\\anaconda3\\lib\\site-packages\\sklearn\\base.py:420: UserWarning: X does not have valid feature names, but LinearRegression was fitted with feature names\n",
      "  warnings.warn(\n"
     ]
    },
    {
     "data": {
      "text/plain": [
       "array([25.50049243])"
      ]
     },
     "execution_count": 14,
     "metadata": {},
     "output_type": "execute_result"
    }
   ],
   "source": [
    "regressors.predict([[50,30,20]])"
   ]
  },
  {
   "cell_type": "code",
   "execution_count": 16,
   "id": "65638b37",
   "metadata": {},
   "outputs": [
    {
     "name": "stdout",
     "output_type": "stream",
     "text": [
      "Mean Squared Error (MSE): 5.13\n"
     ]
    },
    {
     "data": {
      "image/png": "[encoded data removed]",
      "text/plain": [
       "<Figure size 1000x600 with 1 Axes>"
      ]
     },
     "metadata": {},
     "output_type": "display_data"
    }
   ],
   "source": [
    "import pandas as pd\n",
    "from sklearn.model_selection import train_test_split\n",
    "from sklearn.tree import DecisionTreeRegressor\n",
    "import matplotlib.pyplot as plt\n",
    "# Split the data into training and testing sets\n",
    "X_train, X_test, y_train, y_test = train_test_split(X, y, test_size=0.3, random_state=42)\n",
    "\n",
    "# Create and train the Decision Tree Regressor model\n",
    "model = DecisionTreeRegressor(random_state=42)\n",
    "model.fit(X_train, y_train)\n",
    "\n",
    "# Make predictions on the test set\n",
    "y_pred = model.predict(X_test)\n",
    "\n",
    "# Evaluate the model (you can use different metrics based on your needs)\n",
    "# For example, to calculate the Mean Squared Error (MSE)\n",
    "from sklearn.metrics import mean_squared_error\n",
    "mse = mean_squared_error(y_test, y_pred)\n",
    "print(f\"Mean Squared Error (MSE): {mse:.2f}\")\n",
    "\n",
    "# Visualize the tree (optional)\n",
    "from sklearn.tree import plot_tree\n",
    "plt.figure(figsize=(10, 6))\n",
    "plot_tree(model, feature_names=X.columns, filled=True)\n",
    "plt.show()"
   ]
  },
  {
   "cell_type": "code",
   "execution_count": 26,
   "id": "09aecafc",
   "metadata": {},
   "outputs": [
    {
     "name": "stdout",
     "output_type": "stream",
     "text": [
      "Mean Squared Error (MSE) scores for each fold: [13.0125  7.985  11.115  13.0525 13.265 ]\n",
      "Mean MSE: 11.686\n",
      "Standard Deviation of MSE: 2.007167531622606\n"
     ]
    }
   ],
   "source": [
    "import pandas as pd\n",
    "import numpy as np\n",
    "from sklearn.model_selection import cross_val_score\n",
    "from sklearn.tree import DecisionTreeRegressor\n",
    "\n",
    "# Create a Decision Tree Regressor model\n",
    "model = DecisionTreeRegressor(random_state=42)\n",
    "\n",
    "# Perform 5-fold cross-validation and calculate the Mean Squared Error (MSE)\n",
    "# You can choose other evaluation metrics if needed (e.g., 'neg_mean_absolute_error')\n",
    "scores = cross_val_score(model, X, y, cv=5, scoring='neg_mean_squared_error')\n",
    "\n",
    "# Convert negative MSE scores to positive\n",
    "mse_scores = -scores\n",
    "\n",
    "# Calculate the mean and standard deviation of the MSE scores\n",
    "mean_mse = np.mean(mse_scores)\n",
    "std_mse = np.std(mse_scores)\n",
    "\n",
    "# Print the results\n",
    "print(\"Mean Squared Error (MSE) scores for each fold:\", mse_scores)\n",
    "print(\"Mean MSE:\", mean_mse)\n",
    "print(\"Standard Deviation of MSE:\", std_mse)\n"
   ]
  },
  {
   "cell_type": "code",
   "execution_count": 23,
   "id": "43cad25e",
   "metadata": {},
   "outputs": [
    {
     "name": "stdout",
     "output_type": "stream",
     "text": [
      "Mean Squared Error (MSE): 0.07\n"
     ]
    }
   ],
   "source": [
    "import pandas as pd\n",
    "from sklearn.linear_model import Ridge\n",
    "from sklearn.model_selection import train_test_split\n",
    "from sklearn.metrics import mean_squared_error\n",
    "# Split the data into training and testing sets\n",
    "X_train, X_test, y_train, y_test = train_test_split(X, y, test_size=5, random_state=42)\n",
    "\n",
    "# Create and train the Ridge Regression model\n",
    "alpha = 1.0  # Regularization strength (higher values mean stronger regularization)\n",
    "model = Ridge(alpha=alpha)\n",
    "model.fit(X_train, y_train)\n",
    "\n",
    "# Make predictions on the test set\n",
    "y_pred = model.predict(X_test)\n",
    "\n",
    "# Evaluate the model using Mean Squared Error (MSE)\n",
    "mse = mean_squared_error(y_test, y_pred)\n",
    "print(f\"Mean Squared Error (MSE): {mse:.2f}\")"
   ]
  },
  {
   "cell_type": "code",
   "execution_count": 24,
   "id": "73468938",
   "metadata": {},
   "outputs": [
    {
     "name": "stdout",
     "output_type": "stream",
     "text": [
      "Mean Squared Error (MSE): 0.07\n"
     ]
    }
   ],
   "source": [
    "import pandas as pd\n",
    "from sklearn.linear_model import Lasso\n",
    "from sklearn.model_selection import train_test_split\n",
    "from sklearn.metrics import mean_squared_error\n",
    "X_train, X_test, y_train, y_test = train_test_split(X, y, test_size=5, random_state=42)\n",
    "\n",
    "# Create and train the Lasso Regression model\n",
    "alpha = 1.0  # Regularization strength (higher values mean stronger regularization)\n",
    "model = Lasso(alpha=alpha)\n",
    "model.fit(X_train, y_train)\n",
    "\n",
    "# Make predictions on the test set\n",
    "y_pred = model.predict(X_test)\n",
    "\n",
    "# Evaluate the model using Mean Squared Error (MSE)\n",
    "mse = mean_squared_error(y_test, y_pred)\n",
    "print(f\"Mean Squared Error (MSE): {mse:.2f}\")"
   ]
  },
  {
   "cell_type": "code",
   "execution_count": 28,
   "id": "6a18a266",
   "metadata": {},
   "outputs": [
    {
     "name": "stdout",
     "output_type": "stream",
     "text": [
      "Mean Squared Error (MSE): 0.07\n"
     ]
    }
   ],
   "source": [
    "import pandas as pd\n",
    "from sklearn.linear_model import Ridge\n",
    "from sklearn.model_selection import train_test_split\n",
    "from sklearn.metrics import mean_squared_error\n",
    "\n",
    "\n",
    "# Split the data into training and testing sets\n",
    "X_train, X_test, y_train, y_test = train_test_split(X, y, test_size=5, random_state=42)\n",
    "\n",
    "# Create and train the Ridge Regression model\n",
    "alpha = 1.0  # Regularization strength (higher values mean stronger regularization)\n",
    "model = Ridge(alpha=alpha)\n",
    "model.fit(X_train, y_train)\n",
    "\n",
    "# Make predictions on the test set\n",
    "y_pred = model.predict(X_test)\n",
    "\n",
    "# Evaluate the model using Mean Squared Error (MSE)\n",
    "mse = mean_squared_error(y_test, y_pred)\n",
    "print(f\"Mean Squared Error (MSE): {mse:.2f}\")\n"
   ]
  },
  {
   "cell_type": "code",
   "execution_count": 29,
   "id": "18785d6d",
   "metadata": {},
   "outputs": [
    {
     "name": "stdout",
     "output_type": "stream",
     "text": [
      "Alpha = 0.1, Mean Squared Error (MSE): 0.07\n",
      "Alpha = 1.0, Mean Squared Error (MSE): 0.07\n",
      "Alpha = 10.0, Mean Squared Error (MSE): 3.02\n"
     ]
    }
   ],
   "source": [
    "X_train, X_test, y_train, y_test = train_test_split(X, y, test_size=5, random_state=42)\n",
    "\n",
    "# Create and train the Lasso Regression model with different alpha values\n",
    "alpha_values = [0.1, 1.0, 10.0]  # List of different alpha values to try\n",
    "\n",
    "for alpha in alpha_values:\n",
    "    model = Lasso(alpha=alpha)\n",
    "    model.fit(X_train, y_train)\n",
    "\n",
    "    # Make predictions on the test set\n",
    "    y_pred = model.predict(X_test)\n",
    "\n",
    "    # Evaluate the model using Mean Squared Error (MSE)\n",
    "    mse = mean_squared_error(y_test, y_pred)\n",
    "    print(f\"Alpha = {alpha:.1f}, Mean Squared Error (MSE): {mse:.2f}\")\n"
   ]
  },
  {
   "cell_type": "code",
   "execution_count": 31,
   "id": "93325437",
   "metadata": {},
   "outputs": [],
   "source": [
    "import numpy as np\n",
    "import pandas as pd\n",
    "from sklearn.model_selection import train_test_split\n",
    "from sklearn.linear_model import LogisticRegression\n",
    "\n",
    "# Load your binary classificati\n",
    "\n",
    "# Extract the features (X) and target variable (y) from the data\n",
    "data2 = pd.read_csv('C:/Users/ravit/Downloads/ecoli(1).csv')"
   ]
  },
  {
   "cell_type": "code",
   "execution_count": 32,
   "id": "40148d32",
   "metadata": {},
   "outputs": [
    {
     "data": {
      "text/html": [
       "<div>\n",
       "<style scoped>\n",
       "    .dataframe tbody tr th:only-of-type {\n",
       "        vertical-align: middle;\n",
       "    }\n",
       "\n",
       "    .dataframe tbody tr th {\n",
       "        vertical-align: top;\n",
       "    }\n",
       "\n",
       "    .dataframe thead th {\n",
       "        text-align: right;\n",
       "    }\n",
       "</style>\n",
       "<table border=\"1\" class=\"dataframe\">\n",
       "  <thead>\n",
       "    <tr style=\"text-align: right;\">\n",
       "      <th></th>\n",
       "      <th>Mcg</th>\n",
       "      <th>Gvh</th>\n",
       "      <th>Lip</th>\n",
       "      <th>Aac</th>\n",
       "      <th>Alm1</th>\n",
       "      <th>Alm2</th>\n",
       "      <th>Class</th>\n",
       "    </tr>\n",
       "  </thead>\n",
       "  <tbody>\n",
       "    <tr>\n",
       "      <th>0</th>\n",
       "      <td>63</td>\n",
       "      <td>51</td>\n",
       "      <td>48</td>\n",
       "      <td>64</td>\n",
       "      <td>72</td>\n",
       "      <td>76</td>\n",
       "      <td>yes</td>\n",
       "    </tr>\n",
       "    <tr>\n",
       "      <th>1</th>\n",
       "      <td>81</td>\n",
       "      <td>53</td>\n",
       "      <td>48</td>\n",
       "      <td>57</td>\n",
       "      <td>87</td>\n",
       "      <td>88</td>\n",
       "      <td>yes</td>\n",
       "    </tr>\n",
       "    <tr>\n",
       "      <th>2</th>\n",
       "      <td>84</td>\n",
       "      <td>54</td>\n",
       "      <td>48</td>\n",
       "      <td>75</td>\n",
       "      <td>92</td>\n",
       "      <td>7</td>\n",
       "      <td>yes</td>\n",
       "    </tr>\n",
       "    <tr>\n",
       "      <th>3</th>\n",
       "      <td>81</td>\n",
       "      <td>52</td>\n",
       "      <td>48</td>\n",
       "      <td>57</td>\n",
       "      <td>78</td>\n",
       "      <td>8</td>\n",
       "      <td>yes</td>\n",
       "    </tr>\n",
       "    <tr>\n",
       "      <th>4</th>\n",
       "      <td>76</td>\n",
       "      <td>71</td>\n",
       "      <td>48</td>\n",
       "      <td>5</td>\n",
       "      <td>71</td>\n",
       "      <td>75</td>\n",
       "      <td>yes</td>\n",
       "    </tr>\n",
       "  </tbody>\n",
       "</table>\n",
       "</div>"
      ],
      "text/plain": [
       "   Mcg  Gvh  Lip  Aac  Alm1  Alm2 Class\n",
       "0   63   51   48   64    72    76   yes\n",
       "1   81   53   48   57    87    88   yes\n",
       "2   84   54   48   75    92     7   yes\n",
       "3   81   52   48   57    78     8   yes\n",
       "4   76   71   48    5    71    75   yes"
      ]
     },
     "execution_count": 32,
     "metadata": {},
     "output_type": "execute_result"
    }
   ],
   "source": [
    "data2.head()"
   ]
  },
  {
   "cell_type": "code",
   "execution_count": 33,
   "id": "64cb3923",
   "metadata": {},
   "outputs": [
    {
     "name": "stdout",
     "output_type": "stream",
     "text": [
      "   Mcg  Gvh  Lip  Aac  Alm1  Alm2 Class\n",
      "0   63   51   48   64    72    76   yes\n",
      "1   81   53   48   57    87    88   yes\n",
      "2   84   54   48   75    92     7   yes\n",
      "3   81   52   48   57    78     8   yes\n",
      "4   76   71   48    5    71    75   yes\n",
      "X_train shape: (235, 6)\n",
      "y_train shape: (235,)\n",
      "X_test shape: (101, 6)\n",
      "y_test shape: (101,)\n"
     ]
    }
   ],
   "source": [
    "import pandas as pd\n",
    "from sklearn.model_selection import train_test_split\n",
    "\n",
    "# Assuming you have your data in a pandas DataFrame named 'df'\n",
    "\n",
    "# Print the first few rows of the DataFrame to see the structure of the data\n",
    "print(data2.head())\n",
    "\n",
    "# Separate the target variable (the column you want to predict) from the features\n",
    "target_column = 'Class'  # Replace 'target_column_name' with the name of the target column\n",
    "X = data2.drop(target_column, axis=1)\n",
    "y = data2['Class']\n",
    "\n",
    "# Split the data into training (first 15 observations) and testing (rest 5 observations) sets\n",
    "X_train, X_test, y_train, y_test = train_test_split(X, y, test_size=0.3, random_state=42)\n",
    "\n",
    "# Print the shapes of the training and testing sets\n",
    "print(\"X_train shape:\", X_train.shape)\n",
    "print(\"y_train shape:\", y_train.shape)\n",
    "print(\"X_test shape:\", X_test.shape)\n",
    "print(\"y_test shape:\", y_test.shape)\n"
   ]
  },
  {
   "cell_type": "code",
   "execution_count": 36,
   "id": "7027b7cc",
   "metadata": {},
   "outputs": [
    {
     "name": "stdout",
     "output_type": "stream",
     "text": [
      "Accuracy: 0.8712871287128713\n",
      "Classification Report:\n",
      "              precision    recall  f1-score   support\n",
      "\n",
      "          no       0.93      0.92      0.93        92\n",
      "         yes       0.30      0.33      0.32         9\n",
      "\n",
      "    accuracy                           0.87       101\n",
      "   macro avg       0.62      0.63      0.62       101\n",
      "weighted avg       0.88      0.87      0.87       101\n",
      "\n",
      "Confusion Matrix:\n",
      "[[85  7]\n",
      " [ 6  3]]\n"
     ]
    },
    {
     "ename": "AttributeError",
     "evalue": "'DataFrame' object has no attribute 'feature_names'",
     "output_type": "error",
     "traceback": [
      "\u001b[1;31m---------------------------------------------------------------------------\u001b[0m",
      "\u001b[1;31mAttributeError\u001b[0m                            Traceback (most recent call last)",
      "Cell \u001b[1;32mIn[36], line 26\u001b[0m\n\u001b[0;32m     24\u001b[0m \u001b[38;5;66;03m# Visualize the tree (optional)\u001b[39;00m\n\u001b[0;32m     25\u001b[0m plt\u001b[38;5;241m.\u001b[39mfigure(figsize\u001b[38;5;241m=\u001b[39m(\u001b[38;5;241m12\u001b[39m, \u001b[38;5;241m8\u001b[39m))\n\u001b[1;32m---> 26\u001b[0m plot_tree(model, feature_names\u001b[38;5;241m=\u001b[39m\u001b[43mdata\u001b[49m\u001b[38;5;241;43m.\u001b[39;49m\u001b[43mfeature_names\u001b[49m, class_names\u001b[38;5;241m=\u001b[39mdata\u001b[38;5;241m.\u001b[39mtarget_names, filled\u001b[38;5;241m=\u001b[39m\u001b[38;5;28;01mTrue\u001b[39;00m)\n\u001b[0;32m     27\u001b[0m plt\u001b[38;5;241m.\u001b[39mshow()\n",
      "File \u001b[1;32m~\\anaconda3\\lib\\site-packages\\pandas\\core\\generic.py:5902\u001b[0m, in \u001b[0;36mNDFrame.__getattr__\u001b[1;34m(self, name)\u001b[0m\n\u001b[0;32m   5895\u001b[0m \u001b[38;5;28;01mif\u001b[39;00m (\n\u001b[0;32m   5896\u001b[0m     name \u001b[38;5;129;01mnot\u001b[39;00m \u001b[38;5;129;01min\u001b[39;00m \u001b[38;5;28mself\u001b[39m\u001b[38;5;241m.\u001b[39m_internal_names_set\n\u001b[0;32m   5897\u001b[0m     \u001b[38;5;129;01mand\u001b[39;00m name \u001b[38;5;129;01mnot\u001b[39;00m \u001b[38;5;129;01min\u001b[39;00m \u001b[38;5;28mself\u001b[39m\u001b[38;5;241m.\u001b[39m_metadata\n\u001b[0;32m   5898\u001b[0m     \u001b[38;5;129;01mand\u001b[39;00m name \u001b[38;5;129;01mnot\u001b[39;00m \u001b[38;5;129;01min\u001b[39;00m \u001b[38;5;28mself\u001b[39m\u001b[38;5;241m.\u001b[39m_accessors\n\u001b[0;32m   5899\u001b[0m     \u001b[38;5;129;01mand\u001b[39;00m \u001b[38;5;28mself\u001b[39m\u001b[38;5;241m.\u001b[39m_info_axis\u001b[38;5;241m.\u001b[39m_can_hold_identifiers_and_holds_name(name)\n\u001b[0;32m   5900\u001b[0m ):\n\u001b[0;32m   5901\u001b[0m     \u001b[38;5;28;01mreturn\u001b[39;00m \u001b[38;5;28mself\u001b[39m[name]\n\u001b[1;32m-> 5902\u001b[0m \u001b[38;5;28;01mreturn\u001b[39;00m \u001b[38;5;28;43mobject\u001b[39;49m\u001b[38;5;241;43m.\u001b[39;49m\u001b[38;5;21;43m__getattribute__\u001b[39;49m\u001b[43m(\u001b[49m\u001b[38;5;28;43mself\u001b[39;49m\u001b[43m,\u001b[49m\u001b[43m \u001b[49m\u001b[43mname\u001b[49m\u001b[43m)\u001b[49m\n",
      "\u001b[1;31mAttributeError\u001b[0m: 'DataFrame' object has no attribute 'feature_names'"
     ]
    },
    {
     "data": {
      "text/plain": [
       "<Figure size 1200x800 with 0 Axes>"
      ]
     },
     "metadata": {},
     "output_type": "display_data"
    }
   ],
   "source": [
    "import pandas as pd\n",
    "from sklearn.datasets import load_iris\n",
    "from sklearn.model_selection import train_test_split\n",
    "from sklearn.tree import DecisionTreeClassifier, plot_tree\n",
    "import matplotlib.pyplot as plt\n",
    "\n",
    "target_column = 'Class'  # Replace 'target_column_name' with the name of the target column\n",
    "X = data2.drop(target_column, axis=1)\n",
    "y = data2['Class']\n",
    "\n",
    "model = DecisionTreeClassifier(random_state=42)\n",
    "model.fit(X_train, y_train)\n",
    "# Make predictions on the test set\n",
    "y_pred = model.predict(X_test)\n",
    "\n",
    "# Evaluate the model (you can use different metrics based on your needs)\n",
    "from sklearn.metrics import accuracy_score, classification_report, confusion_matrix\n",
    "accuracy = accuracy_score(y_test, y_pred)\n",
    "print(\"Accuracy:\", accuracy)\n",
    "\n",
    "# Print the classification report and confusion matrix for detailed evaluation\n",
    "print(\"Classification Report:\")\n",
    "print(classification_report(y_test, y_pred))\n",
    "\n",
    "print(\"Confusion Matrix:\")\n",
    "print(confusion_matrix(y_test, y_pred))\n",
    "\n",
    "# Visualize the tree (optional)\n",
    "plt.figure(figsize=(12, 8))\n",
    "plot_tree(model, feature_names=data.feature_names, class_names=data.target_names, filled=True)\n",
    "plt.show()\n",
    "\n",
    "\n",
    "\n"
   ]
  },
  {
   "cell_type": "code",
   "execution_count": 39,
   "id": "2554fc35",
   "metadata": {},
   "outputs": [
    {
     "name": "stdout",
     "output_type": "stream",
     "text": [
      "Accuracy: 0.8823529411764706\n",
      "Classification Report:\n",
      "              precision    recall  f1-score   support\n",
      "\n",
      "          no       0.91      0.97      0.94        61\n",
      "         yes       0.33      0.14      0.20         7\n",
      "\n",
      "    accuracy                           0.88        68\n",
      "   macro avg       0.62      0.56      0.57        68\n",
      "weighted avg       0.85      0.88      0.86        68\n",
      "\n",
      "Confusion Matrix:\n",
      "[[59  2]\n",
      " [ 6  1]]\n"
     ]
    }
   ],
   "source": [
    "import pandas as pd\n",
    "from sklearn.model_selection import train_test_split\n",
    "from sklearn.ensemble import RandomForestClassifier\n",
    "from sklearn.metrics import accuracy_score, classification_report, confusion_matrix\n",
    "X_train, X_test, y_train, y_test = train_test_split(X, y, test_size=0.2, random_state=42)\n",
    "\n",
    "# Create and train the Random Forest Classifier model\n",
    "n_estimators = 100  # Number of decision trees in the forest\n",
    "model = RandomForestClassifier(n_estimators=n_estimators, random_state=42)\n",
    "model.fit(X_train, y_train)\n",
    "\n",
    "# Make predictions on the test set\n",
    "y_pred = model.predict(X_test)\n",
    "\n",
    "# Evaluate the model using accuracy, classification report, and confusion matrix\n",
    "accuracy = accuracy_score(y_test, y_pred)\n",
    "print(\"Accuracy:\", accuracy)\n",
    "\n",
    "print(\"Classification Report:\")\n",
    "print(classification_report(y_test, y_pred))\n",
    "\n",
    "print(\"Confusion Matrix:\")\n",
    "print(confusion_matrix(y_test, y_pred))"
   ]
  },
  {
   "cell_type": "code",
   "execution_count": 40,
   "id": "a31c831a",
   "metadata": {},
   "outputs": [
    {
     "name": "stdout",
     "output_type": "stream",
     "text": [
      "Predicted classes: ['no']\n"
     ]
    }
   ],
   "source": [
    "real_input_values = pd.DataFrame({'Mcg':[50],'Gvh':[50],'Lip':[50],'Aac':[50],'Alm1':[50],'Alm2':[50],})\n",
    "\n",
    "# Make predictions on the real input values\n",
    "predictions = model.predict(real_input_values)\n",
    "\n",
    "print(\"Predicted classes:\", predictions)"
   ]
  },
  {
   "cell_type": "code",
   "execution_count": 42,
   "id": "531655c6",
   "metadata": {},
   "outputs": [
    {
     "name": "stdout",
     "output_type": "stream",
     "text": [
      "Accuracy: 0.8529411764705882\n",
      "Classification Report:\n",
      "              precision    recall  f1-score   support\n",
      "\n",
      "          no       0.89      0.95      0.92        61\n",
      "         yes       0.00      0.00      0.00         7\n",
      "\n",
      "    accuracy                           0.85        68\n",
      "   macro avg       0.45      0.48      0.46        68\n",
      "weighted avg       0.80      0.85      0.83        68\n",
      "\n",
      "Confusion Matrix:\n",
      "[[58  3]\n",
      " [ 7  0]]\n"
     ]
    }
   ],
   "source": [
    "import pandas as pd\n",
    "from sklearn.model_selection import train_test_split\n",
    "from sklearn.svm import SVC\n",
    "from sklearn.metrics import accuracy_score, classification_report, confusion_matrix\n",
    "\n",
    "# Create and train the SVM classifier\n",
    "model = SVC(kernel='linear', random_state=42)\n",
    "model.fit(X_train, y_train)\n",
    "\n",
    "# Make predictions on the test set\n",
    "y_pred = model.predict(X_test)\n",
    "\n",
    "# Evaluate the model using accuracy, classification report, and confusion matrix\n",
    "accuracy = accuracy_score(y_test, y_pred)\n",
    "print(\"Accuracy:\", accuracy)\n",
    "\n",
    "print(\"Classification Report:\")\n",
    "print(classification_report(y_test, y_pred))\n",
    "\n",
    "print(\"Confusion Matrix:\")\n",
    "print(confusion_matrix(y_test, y_pred))\n",
    "\n",
    "\n",
    "\n"
   ]
  },
  {
   "cell_type": "code",
   "execution_count": 46,
   "id": "812cc789",
   "metadata": {},
   "outputs": [
    {
     "name": "stdout",
     "output_type": "stream",
     "text": [
      "Epoch 1/50\n",
      "9/9 [==============================] - 1s 2ms/step - loss: 0.6077 - accuracy: 0.8097\n",
      "Epoch 2/50\n",
      "9/9 [==============================] - 0s 2ms/step - loss: 0.4630 - accuracy: 0.8918\n",
      "Epoch 3/50\n",
      "9/9 [==============================] - 0s 2ms/step - loss: 0.3800 - accuracy: 0.8955\n",
      "Epoch 4/50\n",
      "9/9 [==============================] - 0s 2ms/step - loss: 0.3221 - accuracy: 0.8955\n",
      "Epoch 5/50\n",
      "9/9 [==============================] - 0s 2ms/step - loss: 0.2845 - accuracy: 0.8955\n",
      "Epoch 6/50\n",
      "9/9 [==============================] - 0s 2ms/step - loss: 0.2547 - accuracy: 0.8955\n",
      "Epoch 7/50\n",
      "9/9 [==============================] - 0s 2ms/step - loss: 0.2311 - accuracy: 0.8955\n",
      "Epoch 8/50\n",
      "9/9 [==============================] - 0s 2ms/step - loss: 0.2111 - accuracy: 0.8955\n",
      "Epoch 9/50\n",
      "9/9 [==============================] - 0s 2ms/step - loss: 0.1960 - accuracy: 0.9142\n",
      "Epoch 10/50\n",
      "9/9 [==============================] - 0s 1ms/step - loss: 0.1810 - accuracy: 0.9366\n",
      "Epoch 11/50\n",
      "9/9 [==============================] - 0s 2ms/step - loss: 0.1701 - accuracy: 0.9366\n",
      "Epoch 12/50\n",
      "9/9 [==============================] - 0s 2ms/step - loss: 0.1604 - accuracy: 0.9366\n",
      "Epoch 13/50\n",
      "9/9 [==============================] - 0s 2ms/step - loss: 0.1529 - accuracy: 0.9366\n",
      "Epoch 14/50\n",
      "9/9 [==============================] - 0s 2ms/step - loss: 0.1454 - accuracy: 0.9366\n",
      "Epoch 15/50\n",
      "9/9 [==============================] - 0s 2ms/step - loss: 0.1396 - accuracy: 0.9366\n",
      "Epoch 16/50\n",
      "9/9 [==============================] - 0s 2ms/step - loss: 0.1345 - accuracy: 0.9328\n",
      "Epoch 17/50\n",
      "9/9 [==============================] - 0s 2ms/step - loss: 0.1295 - accuracy: 0.9440\n",
      "Epoch 18/50\n",
      "9/9 [==============================] - 0s 2ms/step - loss: 0.1265 - accuracy: 0.9403\n",
      "Epoch 19/50\n",
      "9/9 [==============================] - 0s 2ms/step - loss: 0.1221 - accuracy: 0.9403\n",
      "Epoch 20/50\n",
      "9/9 [==============================] - 0s 2ms/step - loss: 0.1183 - accuracy: 0.9552\n",
      "Epoch 21/50\n",
      "9/9 [==============================] - 0s 2ms/step - loss: 0.1153 - accuracy: 0.9590\n",
      "Epoch 22/50\n",
      "9/9 [==============================] - 0s 2ms/step - loss: 0.1125 - accuracy: 0.9590\n",
      "Epoch 23/50\n",
      "9/9 [==============================] - 0s 2ms/step - loss: 0.1109 - accuracy: 0.9515\n",
      "Epoch 24/50\n",
      "9/9 [==============================] - 0s 2ms/step - loss: 0.1086 - accuracy: 0.9515\n",
      "Epoch 25/50\n",
      "9/9 [==============================] - 0s 2ms/step - loss: 0.1058 - accuracy: 0.9590\n",
      "Epoch 26/50\n",
      "9/9 [==============================] - 0s 2ms/step - loss: 0.1047 - accuracy: 0.9590\n",
      "Epoch 27/50\n",
      "9/9 [==============================] - 0s 2ms/step - loss: 0.1026 - accuracy: 0.9590\n",
      "Epoch 28/50\n",
      "9/9 [==============================] - 0s 2ms/step - loss: 0.1013 - accuracy: 0.9590\n",
      "Epoch 29/50\n",
      "9/9 [==============================] - 0s 2ms/step - loss: 0.1001 - accuracy: 0.9664\n",
      "Epoch 30/50\n",
      "9/9 [==============================] - 0s 2ms/step - loss: 0.0975 - accuracy: 0.9664\n",
      "Epoch 31/50\n",
      "9/9 [==============================] - 0s 2ms/step - loss: 0.0968 - accuracy: 0.9664\n",
      "Epoch 32/50\n",
      "9/9 [==============================] - 0s 2ms/step - loss: 0.0954 - accuracy: 0.9664\n",
      "Epoch 33/50\n",
      "9/9 [==============================] - 0s 2ms/step - loss: 0.0938 - accuracy: 0.9664\n",
      "Epoch 34/50\n",
      "9/9 [==============================] - 0s 2ms/step - loss: 0.0926 - accuracy: 0.9664\n",
      "Epoch 35/50\n",
      "9/9 [==============================] - 0s 2ms/step - loss: 0.0914 - accuracy: 0.9664\n",
      "Epoch 36/50\n",
      "9/9 [==============================] - 0s 2ms/step - loss: 0.0909 - accuracy: 0.9664\n",
      "Epoch 37/50\n",
      "9/9 [==============================] - 0s 2ms/step - loss: 0.0897 - accuracy: 0.9664\n",
      "Epoch 38/50\n",
      "9/9 [==============================] - 0s 2ms/step - loss: 0.0888 - accuracy: 0.9701\n",
      "Epoch 39/50\n",
      "9/9 [==============================] - 0s 2ms/step - loss: 0.0878 - accuracy: 0.9664\n",
      "Epoch 40/50\n",
      "9/9 [==============================] - 0s 2ms/step - loss: 0.0868 - accuracy: 0.9664\n",
      "Epoch 41/50\n",
      "9/9 [==============================] - 0s 2ms/step - loss: 0.0870 - accuracy: 0.9664\n",
      "Epoch 42/50\n",
      "9/9 [==============================] - 0s 2ms/step - loss: 0.0861 - accuracy: 0.9701\n",
      "Epoch 43/50\n",
      "9/9 [==============================] - 0s 2ms/step - loss: 0.0844 - accuracy: 0.9701\n",
      "Epoch 44/50\n",
      "9/9 [==============================] - 0s 2ms/step - loss: 0.0847 - accuracy: 0.9701\n",
      "Epoch 45/50\n",
      "9/9 [==============================] - 0s 2ms/step - loss: 0.0832 - accuracy: 0.9701\n",
      "Epoch 46/50\n",
      "9/9 [==============================] - 0s 2ms/step - loss: 0.0835 - accuracy: 0.9701\n",
      "Epoch 47/50\n",
      "9/9 [==============================] - 0s 2ms/step - loss: 0.0823 - accuracy: 0.9664\n",
      "Epoch 48/50\n",
      "9/9 [==============================] - 0s 2ms/step - loss: 0.0818 - accuracy: 0.9701\n",
      "Epoch 49/50\n",
      "9/9 [==============================] - 0s 2ms/step - loss: 0.0806 - accuracy: 0.9701\n",
      "Epoch 50/50\n",
      "9/9 [==============================] - 0s 2ms/step - loss: 0.0800 - accuracy: 0.9701\n",
      "3/3 [==============================] - 0s 3ms/step\n",
      "Accuracy: 0.8529411764705882\n",
      "Classification Report:\n",
      "              precision    recall  f1-score   support\n",
      "\n",
      "           0       0.90      0.93      0.92        61\n",
      "           1       0.20      0.14      0.17         7\n",
      "\n",
      "    accuracy                           0.85        68\n",
      "   macro avg       0.55      0.54      0.54        68\n",
      "weighted avg       0.83      0.85      0.84        68\n",
      "\n",
      "Confusion Matrix:\n",
      "[[57  4]\n",
      " [ 6  1]]\n"
     ]
    }
   ],
   "source": [
    "import pandas as pd\n",
    "from sklearn.model_selection import train_test_split\n",
    "from sklearn.preprocessing import StandardScaler\n",
    "from sklearn.metrics import accuracy_score, classification_report, confusion_matrix\n",
    "from keras.models import Sequential\n",
    "from keras.layers import Dense\n",
    "from sklearn.preprocessing import LabelEncoder, StandardScaler\n",
    "\n",
    "label_encoder = LabelEncoder()\n",
    "y_encoded = label_encoder.fit_transform(y)\n",
    "\n",
    "# Split the data into training and testing sets\n",
    "X_train, X_test, y_train, y_test = train_test_split(X, y_encoded, test_size=0.2, random_state=42)\n",
    "\n",
    "# Standardize the features (optional but recommended for neural networks)\n",
    "scaler = StandardScaler()\n",
    "X_train = scaler.fit_transform(X_train)\n",
    "X_test = scaler.transform(X_test)\n",
    "\n",
    "# Create and train the neural network classifier\n",
    "model = Sequential()\n",
    "model.add(Dense(units=64, activation='relu', input_dim=X_train.shape[1]))\n",
    "model.add(Dense(units=32, activation='relu'))\n",
    "model.add(Dense(units=len(label_encoder.classes_), activation='softmax'))\n",
    "\n",
    "model.compile(optimizer='adam', loss='sparse_categorical_crossentropy', metrics=['accuracy'])\n",
    "model.fit(X_train, y_train, epochs=50, batch_size=32, verbose=1)\n",
    "\n",
    "# Make predictions on the test set\n",
    "y_pred_prob = model.predict(X_test)\n",
    "y_pred = y_pred_prob.argmax(axis=1)\n",
    "\n",
    "# Decode the predicted labels back to original string format\n",
    "y_pred_original = label_encoder.inverse_transform(y_pred)\n",
    "\n",
    "# Evaluate the model using accuracy, classification report, and confusion matrix\n",
    "accuracy = accuracy_score(y_test, y_pred)\n",
    "print(\"Accuracy:\", accuracy)\n",
    "\n",
    "print(\"Classification Report:\")\n",
    "print(classification_report(y_test, y_pred))\n",
    "\n",
    "print(\"Confusion Matrix:\")\n",
    "print(confusion_matrix(y_test, y_pred))\n"
   ]
  },
  {
   "cell_type": "code",
   "execution_count": null,
   "id": "30653bbf",
   "metadata": {},
   "outputs": [],
   "source": []
  }
 ],
 "metadata": {
  "kernelspec": {
   "display_name": "Python 3 (ipykernel)",
   "language": "python",
   "name": "python3"
  },
  "language_info": {
   "codemirror_mode": {
    "name": "ipython",
    "version": 3
   },
   "file_extension": ".py",
   "mimetype": "text/x-python",
   "name": "python",
   "nbconvert_exporter": "python",
   "pygments_lexer": "ipython3",
   "version": "3.10.9"
  }
 },
 "nbformat": 4,
 "nbformat_minor": 5
}
